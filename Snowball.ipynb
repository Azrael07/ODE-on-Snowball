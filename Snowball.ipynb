{
 "cells": [
  {
   "cell_type": "markdown",
   "metadata": {},
   "source": [
    "# Snowball Problem"
   ]
  },
  {
   "cell_type": "code",
   "execution_count": 54,
   "metadata": {},
   "outputs": [],
   "source": [
    "import numpy as np\n",
    "from scipy.integrate import odeint #integration\n",
    "from scipy.optimize import minimize\n",
    "import matplotlib.pyplot as plt"
   ]
  },
  {
   "cell_type": "code",
   "execution_count": 55,
   "metadata": {},
   "outputs": [],
   "source": [
    "#define the parameters\n",
    "K0 = 85 #Snowball growth factor 1\n",
    "beta = 0.07\n",
    "C_d = 0.3\n",
    "g = 9.8\n",
    "rho = 350\n",
    "theta = np.radians(5)\n",
    "rho_a = 0.9\n",
    "\n",
    "#Initial snowball conditions\n",
    "m0 = 10\n",
    "v0 = 0\n",
    "r0 = (m0/(4/3.0*np.pi*rho))*(1*3.0)\n",
    "s0 = 0\n",
    "\n",
    "#Target force\n",
    "F_d = 25000\n",
    "\n",
    "\n",
    "#Set up time array to solve for 30 seconds\n",
    "t = np.linspace(0, 30)"
   ]
  },
  {
   "cell_type": "code",
   "execution_count": 56,
   "metadata": {},
   "outputs": [],
   "source": [
    "#Define the function of dynamics snowball, the equations of motion and the rate at which it changes the size and mass\n",
    "#def snowball_dynamics(w,t,p):\n",
    "    #Unpack state variables\n",
    "#    M, r, s, v = w\n",
    "    \n",
    "    #Unpack parameters\n",
    "#    K0, C_d, g, rho, theta, rho_a, beta = p\n",
    "    \n",
    "    #Make an array of the right hand sides of the four differential equation that make up our system\n",
    "#    f = [beta*K0*np.exp(-beta*t),\n",
    "#        (beta*k0*np.exp(-beta*t))/(4*np.pi*rho*r**2),\n",
    "#        v,\n",
    "#        ((-15*rho_a*C_d)/(56*rho))*(1/r)*v**2-(23/7)*(1/r)*(beta*k0*np.exp(-beta*t))/(4*np.pi*rho*r**2)*v+(5/7)*g*np.sin(theta)]\n",
    "    \n",
    "#    return f\n",
    "\n",
    "def snowball_dynamics(w,t,p):\n",
    "   \n",
    "    #Unpack state variables\n",
    "    M, r, s, v = w\n",
    "   \n",
    "    #Unpack parameters\n",
    "    K0, C_d, g, rho, theta, rho_a, beta = p\n",
    "   \n",
    "    #Make an array of the right hand sides of the four differential equations that make up our system\n",
    "    f = [beta * K0 * np.exp(-beta*t),\n",
    "        (beta * K0 * np.exp(-beta*t))/(4*np.pi*rho*r**2),\n",
    "        v,\n",
    "        (-15*rho_a*C_d)/(56*rho)*1/r*v**2-23/7*1/r*beta*K0*np.exp(-beta*t)/(4*np.pi*rho*r**2)*v+5/7*g*np.sin(theta)]\n",
    "    return f\n",
    "    \n",
    "    "
   ]
  },
  {
   "cell_type": "code",
   "execution_count": 57,
   "metadata": {},
   "outputs": [],
   "source": [
    "#define the objective function, minimize the output of this function by changing the initial snowball mass\n",
    "#def objective(m0):\n",
    "    #load parameters\n",
    "#    p = [m0, C_d, g, rho, theta, rho_a, beta]\n",
    "    \n",
    "    #get the initial radius from initial mass\n",
    "#    r0 = (m0/(4/3.0*np.pi*rho))**(1/3.0) \n",
    "    \n",
    "    #set initial guesses\n",
    "#    w0 = [m0, r0, s0, v0]\n",
    "    \n",
    "    #integrate forward for 30 seconds\n",
    "#    sol = odeint(snowball_dynamics, w0, t, args=(p,))\n",
    "    \n",
    "    #calculate kinetic energy at the end of the run\n",
    "#    ke = 0.5 * sol[:,0][-1]*sol[:,3][-1]**2\n",
    "    \n",
    "    #calculate force required to stop snowball in one snowball radius\n",
    "#    F = ke/sol[:,1][-1]\n",
    "    \n",
    "    #compare to desired force: This should be equal to zero when we are done\n",
    "#    obj = (F - F_d**2)\n",
    "    \n",
    "    \n",
    "#    return obj\n",
    "\n",
    "def objective(m0):\n",
    "   \n",
    "    #load parameters\n",
    "    p = [m0, C_d, g, rho, theta, rho_a, beta]\n",
    "   \n",
    "    #get the initial radius from initial mass\n",
    "    r0 = (m0/(4/3.0*np.pi*rho))**(1/3.0)\n",
    "   \n",
    "    #set initial guesses\n",
    "    w0 = [m0, r0, s0, v0]\n",
    "   \n",
    "    #integrate forward for 30 seconds\n",
    "    sol = odeint(snowball_dynamics, w0, t, args=(p,))\n",
    "   \n",
    "    #calculate kinetic energy at the end of the run\n",
    "    ke = 0.5 * sol[:,0][-1]* sol[:,3][-1]**2\n",
    "   \n",
    "    #calculate force required to stop snowball in one snowball radius\n",
    "    F = ke/ sol[:,1][-1]\n",
    "   \n",
    "    #Compare to desired force: This ishould be equal to zero when we are done\n",
    "    obj = (F - F_d)**2\n",
    "   \n",
    "    return obj"
   ]
  },
  {
   "cell_type": "code",
   "execution_count": 58,
   "metadata": {},
   "outputs": [
    {
     "name": "stdout",
     "output_type": "stream",
     "text": [
      "Optimization terminated successfully.\n",
      "         Current function value: 0.000000\n",
      "         Iterations: 9\n",
      "         Function evaluations: 33\n",
      "         Gradient evaluations: 11\n",
      "initial mass:54.47275469403201kg (110.03496448194467lbs)\n",
      "initial Radius 33.368823502318435cm (13.137305812862767inches)\n"
     ]
    }
   ],
   "source": [
    "#Call optimisations usin the function defined above\n",
    "res = minimize(objective, m0, options = {'disp':True})\n",
    "\n",
    "#get optimized initial mass from solution\n",
    "m0_opt = res.x[0]\n",
    "\n",
    "#calculate optimised initial radius from initial mass\n",
    "r0_opt = (m0_opt/(4/3.0*np.pi*rho))**(1/3.0)\n",
    "\n",
    "print('initial mass:' + str(m0_opt)+'kg (' + str(m0_opt*2.02) + 'lbs)')\n",
    "print ('initial Radius ' + str(r0_opt*100) + 'cm (' + str(r0_opt*39.37) + 'inches)')"
   ]
  },
  {
   "cell_type": "code",
   "execution_count": null,
   "metadata": {},
   "outputs": [],
   "source": []
  },
  {
   "cell_type": "code",
   "execution_count": null,
   "metadata": {},
   "outputs": [],
   "source": []
  }
 ],
 "metadata": {
  "kernelspec": {
   "display_name": "Python 3",
   "language": "python",
   "name": "python3"
  },
  "language_info": {
   "codemirror_mode": {
    "name": "ipython",
    "version": 3
   },
   "file_extension": ".py",
   "mimetype": "text/x-python",
   "name": "python",
   "nbconvert_exporter": "python",
   "pygments_lexer": "ipython3",
   "version": "3.7.6"
  }
 },
 "nbformat": 4,
 "nbformat_minor": 4
}
